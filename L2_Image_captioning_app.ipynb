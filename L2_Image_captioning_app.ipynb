{
  "cells": [
    {
      "cell_type": "markdown",
      "metadata": {
        "id": "view-in-github",
        "colab_type": "text"
      },
      "source": [
        "<a href=\"https://colab.research.google.com/github/mahmouddraz/Gradio/blob/main/L2_Image_captioning_app.ipynb\" target=\"_parent\"><img src=\"https://colab.research.google.com/assets/colab-badge.svg\" alt=\"Open In Colab\"/></a>"
      ]
    },
    {
      "cell_type": "markdown",
      "id": "5ed8535a-7d2f-456f-a18a-95aba8f4f632",
      "metadata": {
        "id": "5ed8535a-7d2f-456f-a18a-95aba8f4f632"
      },
      "source": [
        "Load your HF API key and relevant Python libraries"
      ]
    },
    {
      "cell_type": "code",
      "execution_count": null,
      "id": "e2d7d08f-e63d-4984-a023-b26072f7d897",
      "metadata": {
        "tags": [],
        "id": "e2d7d08f-e63d-4984-a023-b26072f7d897",
        "outputId": "f9b924ff-c249-466a-f10c-3fd33b943ea4"
      },
      "outputs": [
        {
          "ename": "ModuleNotFoundError",
          "evalue": "No module named 'dotenv'",
          "output_type": "error",
          "traceback": [
            "\u001b[1;31m---------------------------------------------------------------------------\u001b[0m",
            "\u001b[1;31mModuleNotFoundError\u001b[0m                       Traceback (most recent call last)",
            "Cell \u001b[1;32mIn[3], line 6\u001b[0m\n\u001b[0;32m      4\u001b[0m \u001b[38;5;28;01mfrom\u001b[39;00m \u001b[38;5;21;01mPIL\u001b[39;00m \u001b[38;5;28;01mimport\u001b[39;00m Image\n\u001b[0;32m      5\u001b[0m \u001b[38;5;28;01mimport\u001b[39;00m \u001b[38;5;21;01mbase64\u001b[39;00m \n\u001b[1;32m----> 6\u001b[0m \u001b[38;5;28;01mfrom\u001b[39;00m \u001b[38;5;21;01mdotenv\u001b[39;00m \u001b[38;5;28;01mimport\u001b[39;00m load_dotenv, find_dotenv\n\u001b[0;32m      7\u001b[0m _ \u001b[38;5;241m=\u001b[39m load_dotenv(find_dotenv()) \u001b[38;5;66;03m# read local .env file\u001b[39;00m\n\u001b[0;32m      8\u001b[0m hf_api_key \u001b[38;5;241m=\u001b[39m os\u001b[38;5;241m.\u001b[39menviron[\u001b[38;5;124m'\u001b[39m\u001b[38;5;124mHF_API_KEY\u001b[39m\u001b[38;5;124m'\u001b[39m]\n",
            "\u001b[1;31mModuleNotFoundError\u001b[0m: No module named 'dotenv'"
          ]
        }
      ],
      "source": [
        "import os\n",
        "import io\n",
        "import IPython.display\n",
        "from PIL import Image\n",
        "import base64\n",
        "from dotenv import load_dotenv, find_dotenv\n",
        "_ = load_dotenv(find_dotenv()) # read local .env file\n",
        "hf_api_key = os.environ['HF_API_KEY']"
      ]
    },
    {
      "cell_type": "code",
      "execution_count": null,
      "id": "d95ad4bb-ed01-4ca5-a20b-0f7d33c9208e",
      "metadata": {
        "id": "d95ad4bb-ed01-4ca5-a20b-0f7d33c9208e"
      },
      "outputs": [],
      "source": [
        "# Helper functions\n",
        "import requests, json\n",
        "\n",
        "#Image-to-text endpoint\n",
        "def get_completion(inputs, parameters=None, ENDPOINT_URL=os.environ['HF_API_ITT_BASE']):\n",
        "    headers = {\n",
        "      \"Authorization\": f\"Bearer {hf_api_key}\",\n",
        "      \"Content-Type\": \"application/json\"\n",
        "    }\n",
        "    data = { \"inputs\": inputs }\n",
        "    if parameters is not None:\n",
        "        data.update({\"parameters\": parameters})\n",
        "    response = requests.request(\"POST\",\n",
        "                                ENDPOINT_URL,\n",
        "                                headers=headers,\n",
        "                                data=json.dumps(data))\n",
        "    return json.loads(response.content.decode(\"utf-8\"))"
      ]
    },
    {
      "cell_type": "markdown",
      "id": "b29f3389-d978-4f8b-997a-6975b4217e21",
      "metadata": {
        "jp-MarkdownHeadingCollapsed": true,
        "tags": [],
        "id": "b29f3389-d978-4f8b-997a-6975b4217e21"
      },
      "source": [
        "## Building an image captioning app"
      ]
    },
    {
      "cell_type": "markdown",
      "id": "5c561bbf-bbbb-4c7b-bc6f-9cfe68300053",
      "metadata": {
        "id": "5c561bbf-bbbb-4c7b-bc6f-9cfe68300053"
      },
      "source": [
        "Here we'll be using an [Inference Endpoint](https://huggingface.co/inference-endpoints) for `Salesforce/blip-image-captioning-base` a 14M parameter captioning model."
      ]
    },
    {
      "cell_type": "markdown",
      "id": "7c5b055e-48f6-4604-b77c-87369956ae01",
      "metadata": {
        "id": "7c5b055e-48f6-4604-b77c-87369956ae01"
      },
      "source": [
        "The code would look very similar if you were running it locally instead of from an API. You can check the [Pipelines](https://huggingface.co/docs/transformers/main_classes/pipelines) documentation page.\n",
        "\n",
        "```py\n",
        "from transformers import pipeline\n",
        "\n",
        "get_completion = pipeline(\"image-to-text\",model=\"Salesforce/blip-image-captioning-base\")\n",
        "\n",
        "def summarize(input):\n",
        "    output = get_completion(input)\n",
        "    return output[0]['generated_text']\n",
        "    \n",
        "```"
      ]
    },
    {
      "cell_type": "markdown",
      "id": "c9aa6c0e-5dd5-4bb6-8101-5d33e49a3bb1",
      "metadata": {
        "id": "c9aa6c0e-5dd5-4bb6-8101-5d33e49a3bb1"
      },
      "source": [
        "The free images are available on: https://free-images.com/"
      ]
    },
    {
      "cell_type": "code",
      "execution_count": null,
      "id": "342d5de3-d54c-4c70-816e-812098fa9c60",
      "metadata": {
        "tags": [],
        "id": "342d5de3-d54c-4c70-816e-812098fa9c60",
        "outputId": "36f2e2fc-e371-4631-81b9-3f8cefabf660"
      },
      "outputs": [
        {
          "ename": "NameError",
          "evalue": "name 'IPython' is not defined",
          "output_type": "error",
          "traceback": [
            "\u001b[1;31m---------------------------------------------------------------------------\u001b[0m",
            "\u001b[1;31mNameError\u001b[0m                                 Traceback (most recent call last)",
            "Cell \u001b[1;32mIn[2], line 2\u001b[0m\n\u001b[0;32m      1\u001b[0m image_url \u001b[38;5;241m=\u001b[39m \u001b[38;5;124m\"\u001b[39m\u001b[38;5;124mhttps://free-images.com/sm/9596/dog_animal_greyhound_983023.jpg\u001b[39m\u001b[38;5;124m\"\u001b[39m\n\u001b[1;32m----> 2\u001b[0m display(IPython\u001b[38;5;241m.\u001b[39mdisplay\u001b[38;5;241m.\u001b[39mImage(url\u001b[38;5;241m=\u001b[39mimage_url))\n\u001b[0;32m      3\u001b[0m get_completion(image_url)\n",
            "\u001b[1;31mNameError\u001b[0m: name 'IPython' is not defined"
          ]
        }
      ],
      "source": [
        "image_url = \"https://free-images.com/sm/9596/dog_animal_greyhound_983023.jpg\"\n",
        "display(IPython.display.Image(url=image_url))\n",
        "get_completion(image_url)"
      ]
    },
    {
      "cell_type": "markdown",
      "id": "ec3137b4-1d6c-4f3b-ac92-5996a49d2912",
      "metadata": {
        "jp-MarkdownHeadingCollapsed": true,
        "tags": [],
        "id": "ec3137b4-1d6c-4f3b-ac92-5996a49d2912"
      },
      "source": [
        "## Captioning with `gr.Interface()`"
      ]
    },
    {
      "cell_type": "code",
      "execution_count": null,
      "id": "baebe68b-660a-468a-b60f-533abdda1eaf",
      "metadata": {
        "tags": [],
        "id": "baebe68b-660a-468a-b60f-533abdda1eaf",
        "outputId": "94ad9732-16d6-4f53-dc55-485ffe7f0e1b"
      },
      "outputs": [
        {
          "ename": "ModuleNotFoundError",
          "evalue": "No module named 'gradio'",
          "output_type": "error",
          "traceback": [
            "\u001b[1;31m---------------------------------------------------------------------------\u001b[0m",
            "\u001b[1;31mModuleNotFoundError\u001b[0m                       Traceback (most recent call last)",
            "Cell \u001b[1;32mIn[1], line 1\u001b[0m\n\u001b[1;32m----> 1\u001b[0m \u001b[38;5;28;01mimport\u001b[39;00m \u001b[38;5;21;01mgradio\u001b[39;00m \u001b[38;5;28;01mas\u001b[39;00m \u001b[38;5;21;01mgr\u001b[39;00m \n\u001b[0;32m      3\u001b[0m \u001b[38;5;28;01mdef\u001b[39;00m \u001b[38;5;21mimage_to_base64_str\u001b[39m(pil_image):\n\u001b[0;32m      4\u001b[0m     byte_arr \u001b[38;5;241m=\u001b[39m io\u001b[38;5;241m.\u001b[39mBytesIO()\n",
            "\u001b[1;31mModuleNotFoundError\u001b[0m: No module named 'gradio'"
          ]
        }
      ],
      "source": [
        "import gradio as gr\n",
        "\n",
        "def image_to_base64_str(pil_image):\n",
        "    byte_arr = io.BytesIO()\n",
        "    pil_image.save(byte_arr, format='PNG')\n",
        "    byte_arr = byte_arr.getvalue()\n",
        "    return str(base64.b64encode(byte_arr).decode('utf-8'))\n",
        "\n",
        "def captioner(image):\n",
        "    base64_image = image_to_base64_str(image)\n",
        "    result = get_completion(base64_image)\n",
        "    return result[0]['generated_text']\n",
        "\n",
        "gr.close_all()\n",
        "demo = gr.Interface(fn=captioner,\n",
        "                    inputs=[gr.Image(label=\"Upload image\", type=\"pil\")],\n",
        "                    outputs=[gr.Textbox(label=\"Caption\")],\n",
        "                    title=\"Image Captioning with BLIP\",\n",
        "                    description=\"Caption any image using the BLIP model\",\n",
        "                    allow_flagging=\"never\",\n",
        "                    examples=[\"christmas_dog.jpeg\", \"bird_flight.jpeg\", \"cow.jpeg\"])\n",
        "\n",
        "demo.launch(share=True, server_port=int(os.environ['PORT1']))"
      ]
    },
    {
      "cell_type": "code",
      "execution_count": null,
      "id": "c1601ee0-b1a1-47cf-a3a6-6f242011fac1",
      "metadata": {
        "id": "c1601ee0-b1a1-47cf-a3a6-6f242011fac1"
      },
      "outputs": [],
      "source": []
    }
  ],
  "metadata": {
    "kernelspec": {
      "display_name": "Python 3 (ipykernel)",
      "language": "python",
      "name": "python3"
    },
    "language_info": {
      "codemirror_mode": {
        "name": "ipython",
        "version": 3
      },
      "file_extension": ".py",
      "mimetype": "text/x-python",
      "name": "python",
      "nbconvert_exporter": "python",
      "pygments_lexer": "ipython3",
      "version": "3.11.3"
    },
    "colab": {
      "provenance": [],
      "include_colab_link": true
    }
  },
  "nbformat": 4,
  "nbformat_minor": 5
}