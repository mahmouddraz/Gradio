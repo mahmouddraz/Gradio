{
  "cells": [
    {
      "cell_type": "markdown",
      "metadata": {
        "id": "view-in-github",
        "colab_type": "text"
      },
      "source": [
        "<a href=\"https://colab.research.google.com/github/mahmouddraz/Gradio/blob/main/L1_NLP_tasks_with_a_simple_interface.ipynb\" target=\"_parent\"><img src=\"https://colab.research.google.com/assets/colab-badge.svg\" alt=\"Open In Colab\"/></a>"
      ]
    },
    {
      "cell_type": "markdown",
      "id": "a1490dad-e6e0-4e56-b123-fb37bc12bb02",
      "metadata": {
        "id": "a1490dad-e6e0-4e56-b123-fb37bc12bb02"
      },
      "source": [
        "# L1: NLP tasks with a simple interface 🗞️"
      ]
    },
    {
      "cell_type": "markdown",
      "id": "334dc474-8b1c-4da5-a281-3dae754eb55e",
      "metadata": {
        "id": "334dc474-8b1c-4da5-a281-3dae754eb55e"
      },
      "source": [
        "Load your HF API key and relevant Python libraries."
      ]
    },
    {
      "cell_type": "code",
      "execution_count": null,
      "id": "1172ceae-5602-42d6-b301-bf21bfa5de6b",
      "metadata": {
        "tags": [],
        "id": "1172ceae-5602-42d6-b301-bf21bfa5de6b",
        "outputId": "f5557b71-91c7-4c90-98e9-a7e8585d634a"
      },
      "outputs": [
        {
          "ename": "ModuleNotFoundError",
          "evalue": "No module named 'dotenv'",
          "output_type": "error",
          "traceback": [
            "\u001b[1;31m---------------------------------------------------------------------------\u001b[0m",
            "\u001b[1;31mModuleNotFoundError\u001b[0m                       Traceback (most recent call last)",
            "Cell \u001b[1;32mIn[1], line 6\u001b[0m\n\u001b[0;32m      4\u001b[0m \u001b[38;5;28;01mfrom\u001b[39;00m \u001b[38;5;21;01mPIL\u001b[39;00m \u001b[38;5;28;01mimport\u001b[39;00m Image\n\u001b[0;32m      5\u001b[0m \u001b[38;5;28;01mimport\u001b[39;00m \u001b[38;5;21;01mbase64\u001b[39;00m \n\u001b[1;32m----> 6\u001b[0m \u001b[38;5;28;01mfrom\u001b[39;00m \u001b[38;5;21;01mdotenv\u001b[39;00m \u001b[38;5;28;01mimport\u001b[39;00m load_dotenv, find_dotenv\n\u001b[0;32m      7\u001b[0m _ \u001b[38;5;241m=\u001b[39m load_dotenv(find_dotenv()) \u001b[38;5;66;03m# read local .env file\u001b[39;00m\n\u001b[0;32m      8\u001b[0m hf_api_key \u001b[38;5;241m=\u001b[39m os\u001b[38;5;241m.\u001b[39menviron[\u001b[38;5;124m'\u001b[39m\u001b[38;5;124mHF_API_KEY\u001b[39m\u001b[38;5;124m'\u001b[39m]\n",
            "\u001b[1;31mModuleNotFoundError\u001b[0m: No module named 'dotenv'"
          ]
        }
      ],
      "source": [
        "import os\n",
        "import io\n",
        "from IPython.display import Image, display, HTML\n",
        "from PIL import Image\n",
        "import base64\n",
        "from dotenv import load_dotenv, find_dotenv\n",
        "_ = load_dotenv(find_dotenv()) # read local .env file\n",
        "hf_api_key = os.environ['HF_API_KEY']"
      ]
    },
    {
      "cell_type": "code",
      "execution_count": null,
      "id": "8ffeb010-e2ab-4610-95b6-3938dfbec440",
      "metadata": {
        "tags": [],
        "id": "8ffeb010-e2ab-4610-95b6-3938dfbec440",
        "outputId": "17ce8e2a-0924-40dc-d140-e9fb51c9d885"
      },
      "outputs": [
        {
          "ename": "KeyError",
          "evalue": "'HF_API_SUMMARY_BASE'",
          "output_type": "error",
          "traceback": [
            "\u001b[1;31m---------------------------------------------------------------------------\u001b[0m",
            "\u001b[1;31mKeyError\u001b[0m                                  Traceback (most recent call last)",
            "Cell \u001b[1;32mIn[2], line 5\u001b[0m\n\u001b[0;32m      2\u001b[0m \u001b[38;5;28;01mimport\u001b[39;00m \u001b[38;5;21;01mrequests\u001b[39;00m\u001b[38;5;241m,\u001b[39m \u001b[38;5;21;01mjson\u001b[39;00m\n\u001b[0;32m      4\u001b[0m \u001b[38;5;66;03m#Summarization endpoint\u001b[39;00m\n\u001b[1;32m----> 5\u001b[0m \u001b[38;5;28;01mdef\u001b[39;00m \u001b[38;5;21mget_completion\u001b[39m(inputs, parameters\u001b[38;5;241m=\u001b[39m\u001b[38;5;28;01mNone\u001b[39;00m,ENDPOINT_URL\u001b[38;5;241m=\u001b[39mos\u001b[38;5;241m.\u001b[39menviron[\u001b[38;5;124m'\u001b[39m\u001b[38;5;124mHF_API_SUMMARY_BASE\u001b[39m\u001b[38;5;124m'\u001b[39m]): \n\u001b[0;32m      6\u001b[0m     headers \u001b[38;5;241m=\u001b[39m {\n\u001b[0;32m      7\u001b[0m       \u001b[38;5;124m\"\u001b[39m\u001b[38;5;124mAuthorization\u001b[39m\u001b[38;5;124m\"\u001b[39m: \u001b[38;5;124mf\u001b[39m\u001b[38;5;124m\"\u001b[39m\u001b[38;5;124mBearer \u001b[39m\u001b[38;5;132;01m{\u001b[39;00mhf_api_key\u001b[38;5;132;01m}\u001b[39;00m\u001b[38;5;124m\"\u001b[39m,\n\u001b[0;32m      8\u001b[0m       \u001b[38;5;124m\"\u001b[39m\u001b[38;5;124mContent-Type\u001b[39m\u001b[38;5;124m\"\u001b[39m: \u001b[38;5;124m\"\u001b[39m\u001b[38;5;124mapplication/json\u001b[39m\u001b[38;5;124m\"\u001b[39m\n\u001b[0;32m      9\u001b[0m     }\n\u001b[0;32m     10\u001b[0m     data \u001b[38;5;241m=\u001b[39m { \u001b[38;5;124m\"\u001b[39m\u001b[38;5;124minputs\u001b[39m\u001b[38;5;124m\"\u001b[39m: inputs }\n",
            "File \u001b[1;32m<frozen os>:679\u001b[0m, in \u001b[0;36m__getitem__\u001b[1;34m(self, key)\u001b[0m\n",
            "\u001b[1;31mKeyError\u001b[0m: 'HF_API_SUMMARY_BASE'"
          ]
        }
      ],
      "source": [
        "# Helper function\n",
        "import requests, json\n",
        "\n",
        "#Summarization endpoint\n",
        "def get_completion(inputs, parameters=None,ENDPOINT_URL=os.environ['HF_API_SUMMARY_BASE']):\n",
        "    headers = {\n",
        "      \"Authorization\": f\"Bearer {hf_api_key}\",\n",
        "      \"Content-Type\": \"application/json\"\n",
        "    }\n",
        "    data = { \"inputs\": inputs }\n",
        "    if parameters is not None:\n",
        "        data.update({\"parameters\": parameters})\n",
        "    response = requests.request(\"POST\",\n",
        "                                ENDPOINT_URL, headers=headers,\n",
        "                                data=json.dumps(data)\n",
        "                               )\n",
        "    return json.loads(response.content.decode(\"utf-8\"))"
      ]
    },
    {
      "cell_type": "markdown",
      "id": "ef8fa72c-7ee5-4a14-b2e9-1f03c0f5876b",
      "metadata": {
        "id": "ef8fa72c-7ee5-4a14-b2e9-1f03c0f5876b"
      },
      "source": [
        "## Building a text summarization app"
      ]
    },
    {
      "cell_type": "markdown",
      "id": "6efd8c81-ed39-4dde-99ae-d0dd1684f05d",
      "metadata": {
        "id": "6efd8c81-ed39-4dde-99ae-d0dd1684f05d"
      },
      "source": [
        "Here we are using an [Inference Endpoint](https://huggingface.co/inference-endpoints) for the `shleifer/distilbart-cnn-12-6`, a 306M parameter distilled model from `facebook/bart-large-cnn`."
      ]
    },
    {
      "cell_type": "markdown",
      "id": "27ec56ed-f894-4468-aa22-9fad71b2fb3a",
      "metadata": {
        "id": "27ec56ed-f894-4468-aa22-9fad71b2fb3a"
      },
      "source": [
        "### How about running it locally?\n",
        "The code would look very similar if you were running it locally instead of from an API. The same is true for all the models in the rest of the course, make sure to check the [Pipelines](https://huggingface.co/docs/transformers/main_classes/pipelines) documentation page\n",
        "\n",
        "```py\n",
        "from transformers import pipeline\n",
        "\n",
        "get_completion = pipeline(\"summarization\", model=\"shleifer/distilbart-cnn-12-6\")\n",
        "\n",
        "def summarize(input):\n",
        "    output = get_completion(input)\n",
        "    return output[0]['summary_text']\n",
        "    \n",
        "```"
      ]
    },
    {
      "cell_type": "code",
      "execution_count": null,
      "id": "3a9574f9-2480-4398-8c4b-6b805b309231",
      "metadata": {
        "tags": [],
        "id": "3a9574f9-2480-4398-8c4b-6b805b309231",
        "outputId": "7c8382b5-081d-42f3-93bd-4abc9ca452d9"
      },
      "outputs": [
        {
          "ename": "NameError",
          "evalue": "name 'get_completion' is not defined",
          "output_type": "error",
          "traceback": [
            "\u001b[1;31m---------------------------------------------------------------------------\u001b[0m",
            "\u001b[1;31mNameError\u001b[0m                                 Traceback (most recent call last)",
            "Cell \u001b[1;32mIn[3], line 14\u001b[0m\n\u001b[0;32m      1\u001b[0m text \u001b[38;5;241m=\u001b[39m (\u001b[38;5;124m'''\u001b[39m\u001b[38;5;124mThe tower is 324 metres (1,063 ft) tall, about the same height\u001b[39m\n\u001b[0;32m      2\u001b[0m \u001b[38;5;124m        as an 81-storey building, and the tallest structure in Paris. \u001b[39m\n\u001b[0;32m      3\u001b[0m \u001b[38;5;124m        Its base is square, measuring 125 metres (410 ft) on each side. \u001b[39m\n\u001b[1;32m   (...)\u001b[0m\n\u001b[0;32m     11\u001b[0m \u001b[38;5;124m        Eiffel Tower is the second tallest free-standing structure in France \u001b[39m\n\u001b[0;32m     12\u001b[0m \u001b[38;5;124m        after the Millau Viaduct.\u001b[39m\u001b[38;5;124m'''\u001b[39m)\n\u001b[1;32m---> 14\u001b[0m get_completion(text)\n",
            "\u001b[1;31mNameError\u001b[0m: name 'get_completion' is not defined"
          ]
        }
      ],
      "source": [
        "text = ('''The tower is 324 metres (1,063 ft) tall, about the same height\n",
        "        as an 81-storey building, and the tallest structure in Paris.\n",
        "        Its base is square, measuring 125 metres (410 ft) on each side.\n",
        "        During its construction, the Eiffel Tower surpassed the Washington\n",
        "        Monument to become the tallest man-made structure in the world,\n",
        "        a title it held for 41 years until the Chrysler Building\n",
        "        in New York City was finished in 1930. It was the first structure\n",
        "        to reach a height of 300 metres. Due to the addition of a broadcasting\n",
        "        aerial at the top of the tower in 1957, it is now taller than the\n",
        "        Chrysler Building by 5.2 metres (17 ft). Excluding transmitters, the\n",
        "        Eiffel Tower is the second tallest free-standing structure in France\n",
        "        after the Millau Viaduct.''')\n",
        "\n",
        "get_completion(text)"
      ]
    },
    {
      "cell_type": "markdown",
      "id": "2694fa24-61d8-406f-879a-3285a210f89f",
      "metadata": {
        "id": "2694fa24-61d8-406f-879a-3285a210f89f"
      },
      "source": [
        "### Getting started with Gradio `gr.Interface`\n",
        "\n",
        "#### How about running it locally?\n",
        "The code would look very similar if you were running it locally.  Simply remove all the paramters in the launch method\n",
        "\n",
        "```py\n",
        "demo.launch()\n",
        "```"
      ]
    },
    {
      "cell_type": "code",
      "execution_count": null,
      "id": "7208dc6a-c8e5-4061-ac3c-ddf632dbe1f1",
      "metadata": {
        "tags": [],
        "id": "7208dc6a-c8e5-4061-ac3c-ddf632dbe1f1",
        "outputId": "22473c60-3453-419f-99f8-67bf5b1f6d8b"
      },
      "outputs": [
        {
          "ename": "ModuleNotFoundError",
          "evalue": "No module named 'gradio'",
          "output_type": "error",
          "traceback": [
            "\u001b[1;31m---------------------------------------------------------------------------\u001b[0m",
            "\u001b[1;31mModuleNotFoundError\u001b[0m                       Traceback (most recent call last)",
            "Cell \u001b[1;32mIn[4], line 1\u001b[0m\n\u001b[1;32m----> 1\u001b[0m \u001b[38;5;28;01mimport\u001b[39;00m \u001b[38;5;21;01mgradio\u001b[39;00m \u001b[38;5;28;01mas\u001b[39;00m \u001b[38;5;21;01mgr\u001b[39;00m\n\u001b[0;32m      2\u001b[0m \u001b[38;5;28;01mdef\u001b[39;00m \u001b[38;5;21msummarize\u001b[39m(\u001b[38;5;28minput\u001b[39m):\n\u001b[0;32m      3\u001b[0m     output \u001b[38;5;241m=\u001b[39m get_completion(\u001b[38;5;28minput\u001b[39m)\n",
            "\u001b[1;31mModuleNotFoundError\u001b[0m: No module named 'gradio'"
          ]
        }
      ],
      "source": [
        "import gradio as gr\n",
        "def summarize(input):\n",
        "    output = get_completion(input)\n",
        "    return output[0]['summary_text']\n",
        "\n",
        "gr.close_all()\n",
        "demo = gr.Interface(fn=summarize, inputs=\"text\", outputs=\"text\")\n",
        "demo.launch(share=True, server_port=int(os.environ['PORT1']))"
      ]
    },
    {
      "cell_type": "markdown",
      "id": "7ea9c2a0-e656-47dd-af74-00eaca4d8ea4",
      "metadata": {
        "id": "7ea9c2a0-e656-47dd-af74-00eaca4d8ea4"
      },
      "source": [
        "You can add `demo.launch(share=True)` to create a public link to share with your team or friends."
      ]
    },
    {
      "cell_type": "code",
      "execution_count": null,
      "id": "38cb5d97-7723-4812-ab23-59cb9146f389",
      "metadata": {
        "tags": [],
        "id": "38cb5d97-7723-4812-ab23-59cb9146f389",
        "outputId": "a7ee0ee0-cd97-4956-9664-fa5af3774068"
      },
      "outputs": [
        {
          "ename": "ModuleNotFoundError",
          "evalue": "No module named 'gradio'",
          "output_type": "error",
          "traceback": [
            "\u001b[1;31m---------------------------------------------------------------------------\u001b[0m",
            "\u001b[1;31mModuleNotFoundError\u001b[0m                       Traceback (most recent call last)",
            "Cell \u001b[1;32mIn[5], line 1\u001b[0m\n\u001b[1;32m----> 1\u001b[0m \u001b[38;5;28;01mimport\u001b[39;00m \u001b[38;5;21;01mgradio\u001b[39;00m \u001b[38;5;28;01mas\u001b[39;00m \u001b[38;5;21;01mgr\u001b[39;00m\n\u001b[0;32m      3\u001b[0m \u001b[38;5;28;01mdef\u001b[39;00m \u001b[38;5;21msummarize\u001b[39m(\u001b[38;5;28minput\u001b[39m):\n\u001b[0;32m      4\u001b[0m     output \u001b[38;5;241m=\u001b[39m get_completion(\u001b[38;5;28minput\u001b[39m)\n",
            "\u001b[1;31mModuleNotFoundError\u001b[0m: No module named 'gradio'"
          ]
        }
      ],
      "source": [
        "import gradio as gr\n",
        "\n",
        "def summarize(input):\n",
        "    output = get_completion(input)\n",
        "    return output[0]['summary_text']\n",
        "\n",
        "gr.close_all()\n",
        "demo = gr.Interface(fn=summarize,\n",
        "                    inputs=[gr.Textbox(label=\"Text to summarize\", lines=6)],\n",
        "                    outputs=[gr.Textbox(label=\"Result\", lines=3)],\n",
        "                    title=\"Text summarization with distilbart-cnn\",\n",
        "                    description=\"Summarize any text using the `shleifer/distilbart-cnn-12-6` model under the hood!\"\n",
        "                   )\n",
        "demo.launch(share=True, server_port=int(os.environ['PORT2']))"
      ]
    },
    {
      "cell_type": "markdown",
      "id": "bea86ea7-5089-4afd-b662-611fc6086cc5",
      "metadata": {
        "id": "bea86ea7-5089-4afd-b662-611fc6086cc5"
      },
      "source": [
        "## Building a Named Entity Recognition app"
      ]
    },
    {
      "cell_type": "markdown",
      "id": "6e51a0c8-0247-4295-9696-8226e2adcc37",
      "metadata": {
        "id": "6e51a0c8-0247-4295-9696-8226e2adcc37"
      },
      "source": [
        "We are using this [Inference Endpoint](https://huggingface.co/inference-endpoints) for `dslim/bert-base-NER`, a 108M parameter fine-tuned BART model on the NER task."
      ]
    },
    {
      "cell_type": "markdown",
      "id": "cc26b365-1cd9-414b-b386-da3eba090514",
      "metadata": {
        "tags": [],
        "id": "cc26b365-1cd9-414b-b386-da3eba090514"
      },
      "source": [
        "### How about running it locally?\n",
        "\n",
        "```py\n",
        "from transformers import pipeline\n",
        "\n",
        "get_completion = pipeline(\"ner\", model=\"dslim/bert-base-NER\")\n",
        "\n",
        "def ner(input):\n",
        "    output = get_completion(input)\n",
        "    return {\"text\": input, \"entities\": output}\n",
        "    \n",
        "```"
      ]
    },
    {
      "cell_type": "code",
      "execution_count": null,
      "id": "d01d87b9-8e42-4f3c-957c-c14f0127a629",
      "metadata": {
        "tags": [],
        "id": "d01d87b9-8e42-4f3c-957c-c14f0127a629",
        "outputId": "da62a5ad-1da9-4707-80e3-b08ebc679df6"
      },
      "outputs": [
        {
          "ename": "KeyError",
          "evalue": "'HF_API_NER_BASE'",
          "output_type": "error",
          "traceback": [
            "\u001b[1;31m---------------------------------------------------------------------------\u001b[0m",
            "\u001b[1;31mKeyError\u001b[0m                                  Traceback (most recent call last)",
            "Cell \u001b[1;32mIn[7], line 1\u001b[0m\n\u001b[1;32m----> 1\u001b[0m API_URL \u001b[38;5;241m=\u001b[39m os\u001b[38;5;241m.\u001b[39menviron[\u001b[38;5;124m'\u001b[39m\u001b[38;5;124mHF_API_NER_BASE\u001b[39m\u001b[38;5;124m'\u001b[39m] \u001b[38;5;66;03m#NER endpoint\u001b[39;00m\n\u001b[0;32m      2\u001b[0m text \u001b[38;5;241m=\u001b[39m \u001b[38;5;124m\"\u001b[39m\u001b[38;5;124mMy name is Andrew, I\u001b[39m\u001b[38;5;124m'\u001b[39m\u001b[38;5;124mm building DeepLearningAI and I live in California\u001b[39m\u001b[38;5;124m\"\u001b[39m\n\u001b[0;32m      3\u001b[0m get_completion(text, parameters\u001b[38;5;241m=\u001b[39m\u001b[38;5;28;01mNone\u001b[39;00m, ENDPOINT_URL\u001b[38;5;241m=\u001b[39m API_URL)\n",
            "File \u001b[1;32m<frozen os>:679\u001b[0m, in \u001b[0;36m__getitem__\u001b[1;34m(self, key)\u001b[0m\n",
            "\u001b[1;31mKeyError\u001b[0m: 'HF_API_NER_BASE'"
          ]
        }
      ],
      "source": [
        "API_URL = os.environ['HF_API_NER_BASE'] #NER endpoint\n",
        "text = \"My name is Andrew, I'm building DeepLearningAI and I live in California\"\n",
        "get_completion(text, parameters=None, ENDPOINT_URL= API_URL)"
      ]
    },
    {
      "cell_type": "code",
      "execution_count": null,
      "id": "525f992c-fac7-4aed-9200-aacf6ccafe07",
      "metadata": {
        "tags": [],
        "id": "525f992c-fac7-4aed-9200-aacf6ccafe07",
        "outputId": "6477c4bd-fe1f-4498-b75c-de7670ace29b"
      },
      "outputs": [
        {
          "ename": "NameError",
          "evalue": "name 'gr' is not defined",
          "output_type": "error",
          "traceback": [
            "\u001b[1;31m---------------------------------------------------------------------------\u001b[0m",
            "\u001b[1;31mNameError\u001b[0m                                 Traceback (most recent call last)",
            "Cell \u001b[1;32mIn[8], line 5\u001b[0m\n\u001b[0;32m      2\u001b[0m     output \u001b[38;5;241m=\u001b[39m get_completion(\u001b[38;5;28minput\u001b[39m, parameters\u001b[38;5;241m=\u001b[39m\u001b[38;5;28;01mNone\u001b[39;00m, ENDPOINT_URL\u001b[38;5;241m=\u001b[39mAPI_URL)\n\u001b[0;32m      3\u001b[0m     \u001b[38;5;28;01mreturn\u001b[39;00m {\u001b[38;5;124m\"\u001b[39m\u001b[38;5;124mtext\u001b[39m\u001b[38;5;124m\"\u001b[39m: \u001b[38;5;28minput\u001b[39m, \u001b[38;5;124m\"\u001b[39m\u001b[38;5;124mentities\u001b[39m\u001b[38;5;124m\"\u001b[39m: output}\n\u001b[1;32m----> 5\u001b[0m gr\u001b[38;5;241m.\u001b[39mclose_all()\n\u001b[0;32m      6\u001b[0m demo \u001b[38;5;241m=\u001b[39m gr\u001b[38;5;241m.\u001b[39mInterface(fn\u001b[38;5;241m=\u001b[39mner,\n\u001b[0;32m      7\u001b[0m                     inputs\u001b[38;5;241m=\u001b[39m[gr\u001b[38;5;241m.\u001b[39mTextbox(label\u001b[38;5;241m=\u001b[39m\u001b[38;5;124m\"\u001b[39m\u001b[38;5;124mText to find entities\u001b[39m\u001b[38;5;124m\"\u001b[39m, lines\u001b[38;5;241m=\u001b[39m\u001b[38;5;241m2\u001b[39m)],\n\u001b[0;32m      8\u001b[0m                     outputs\u001b[38;5;241m=\u001b[39m[gr\u001b[38;5;241m.\u001b[39mHighlightedText(label\u001b[38;5;241m=\u001b[39m\u001b[38;5;124m\"\u001b[39m\u001b[38;5;124mText with entities\u001b[39m\u001b[38;5;124m\"\u001b[39m)],\n\u001b[1;32m   (...)\u001b[0m\n\u001b[0;32m     12\u001b[0m                     \u001b[38;5;66;03m#Here we introduce a new tag, examples, easy to use examples for your application\u001b[39;00m\n\u001b[0;32m     13\u001b[0m                     examples\u001b[38;5;241m=\u001b[39m[\u001b[38;5;124m\"\u001b[39m\u001b[38;5;124mMy name is Andrew and I live in California\u001b[39m\u001b[38;5;124m\"\u001b[39m, \u001b[38;5;124m\"\u001b[39m\u001b[38;5;124mMy name is Poli and work at HuggingFace\u001b[39m\u001b[38;5;124m\"\u001b[39m])\n\u001b[0;32m     14\u001b[0m demo\u001b[38;5;241m.\u001b[39mlaunch(share\u001b[38;5;241m=\u001b[39m\u001b[38;5;28;01mTrue\u001b[39;00m, server_port\u001b[38;5;241m=\u001b[39m\u001b[38;5;28mint\u001b[39m(os\u001b[38;5;241m.\u001b[39menviron[\u001b[38;5;124m'\u001b[39m\u001b[38;5;124mPORT3\u001b[39m\u001b[38;5;124m'\u001b[39m]))\n",
            "\u001b[1;31mNameError\u001b[0m: name 'gr' is not defined"
          ]
        }
      ],
      "source": [
        "def ner(input):\n",
        "    output = get_completion(input, parameters=None, ENDPOINT_URL=API_URL)\n",
        "    return {\"text\": input, \"entities\": output}\n",
        "\n",
        "gr.close_all()\n",
        "demo = gr.Interface(fn=ner,\n",
        "                    inputs=[gr.Textbox(label=\"Text to find entities\", lines=2)],\n",
        "                    outputs=[gr.HighlightedText(label=\"Text with entities\")],\n",
        "                    title=\"NER with dslim/bert-base-NER\",\n",
        "                    description=\"Find entities using the `dslim/bert-base-NER` model under the hood!\",\n",
        "                    allow_flagging=\"never\",\n",
        "                    #Here we introduce a new tag, examples, easy to use examples for your application\n",
        "                    examples=[\"My name is Andrew and I live in California\", \"My name is Poli and work at HuggingFace\"])\n",
        "demo.launch(share=True, server_port=int(os.environ['PORT3']))"
      ]
    },
    {
      "cell_type": "markdown",
      "id": "6bc518d9-d904-42b9-875d-39b8fe679e85",
      "metadata": {
        "id": "6bc518d9-d904-42b9-875d-39b8fe679e85"
      },
      "source": [
        "### Adding a helper function to merge tokens"
      ]
    },
    {
      "cell_type": "code",
      "execution_count": null,
      "id": "1c566a4f-3061-47f1-baf3-26427e84ea5e",
      "metadata": {
        "tags": [],
        "id": "1c566a4f-3061-47f1-baf3-26427e84ea5e",
        "outputId": "2544566f-63d2-49a5-c642-574c027d94ca"
      },
      "outputs": [
        {
          "ename": "NameError",
          "evalue": "name 'gr' is not defined",
          "output_type": "error",
          "traceback": [
            "\u001b[1;31m---------------------------------------------------------------------------\u001b[0m",
            "\u001b[1;31mNameError\u001b[0m                                 Traceback (most recent call last)",
            "Cell \u001b[1;32mIn[9], line 21\u001b[0m\n\u001b[0;32m     18\u001b[0m     merged_tokens \u001b[38;5;241m=\u001b[39m merge_tokens(output)\n\u001b[0;32m     19\u001b[0m     \u001b[38;5;28;01mreturn\u001b[39;00m {\u001b[38;5;124m\"\u001b[39m\u001b[38;5;124mtext\u001b[39m\u001b[38;5;124m\"\u001b[39m: \u001b[38;5;28minput\u001b[39m, \u001b[38;5;124m\"\u001b[39m\u001b[38;5;124mentities\u001b[39m\u001b[38;5;124m\"\u001b[39m: merged_tokens}\n\u001b[1;32m---> 21\u001b[0m gr\u001b[38;5;241m.\u001b[39mclose_all()\n\u001b[0;32m     22\u001b[0m demo \u001b[38;5;241m=\u001b[39m gr\u001b[38;5;241m.\u001b[39mInterface(fn\u001b[38;5;241m=\u001b[39mner,\n\u001b[0;32m     23\u001b[0m                     inputs\u001b[38;5;241m=\u001b[39m[gr\u001b[38;5;241m.\u001b[39mTextbox(label\u001b[38;5;241m=\u001b[39m\u001b[38;5;124m\"\u001b[39m\u001b[38;5;124mText to find entities\u001b[39m\u001b[38;5;124m\"\u001b[39m, lines\u001b[38;5;241m=\u001b[39m\u001b[38;5;241m2\u001b[39m)],\n\u001b[0;32m     24\u001b[0m                     outputs\u001b[38;5;241m=\u001b[39m[gr\u001b[38;5;241m.\u001b[39mHighlightedText(label\u001b[38;5;241m=\u001b[39m\u001b[38;5;124m\"\u001b[39m\u001b[38;5;124mText with entities\u001b[39m\u001b[38;5;124m\"\u001b[39m)],\n\u001b[1;32m   (...)\u001b[0m\n\u001b[0;32m     27\u001b[0m                     allow_flagging\u001b[38;5;241m=\u001b[39m\u001b[38;5;124m\"\u001b[39m\u001b[38;5;124mnever\u001b[39m\u001b[38;5;124m\"\u001b[39m,\n\u001b[0;32m     28\u001b[0m                     examples\u001b[38;5;241m=\u001b[39m[\u001b[38;5;124m\"\u001b[39m\u001b[38;5;124mMy name is Andrew, I\u001b[39m\u001b[38;5;124m'\u001b[39m\u001b[38;5;124mm building DeeplearningAI and I live in California\u001b[39m\u001b[38;5;124m\"\u001b[39m, \u001b[38;5;124m\"\u001b[39m\u001b[38;5;124mMy name is Poli, I live in Vienna and work at HuggingFace\u001b[39m\u001b[38;5;124m\"\u001b[39m])\n\u001b[0;32m     30\u001b[0m demo\u001b[38;5;241m.\u001b[39mlaunch(share\u001b[38;5;241m=\u001b[39m\u001b[38;5;28;01mTrue\u001b[39;00m, server_port\u001b[38;5;241m=\u001b[39m\u001b[38;5;28mint\u001b[39m(os\u001b[38;5;241m.\u001b[39menviron[\u001b[38;5;124m'\u001b[39m\u001b[38;5;124mPORT4\u001b[39m\u001b[38;5;124m'\u001b[39m]))\n",
            "\u001b[1;31mNameError\u001b[0m: name 'gr' is not defined"
          ]
        }
      ],
      "source": [
        "def merge_tokens(tokens):\n",
        "    merged_tokens = []\n",
        "    for token in tokens:\n",
        "        if merged_tokens and token['entity'].startswith('I-') and merged_tokens[-1]['entity'].endswith(token['entity'][2:]):\n",
        "            # If current token continues the entity of the last one, merge them\n",
        "            last_token = merged_tokens[-1]\n",
        "            last_token['word'] += token['word'].replace('##', '')\n",
        "            last_token['end'] = token['end']\n",
        "            last_token['score'] = (last_token['score'] + token['score']) / 2\n",
        "        else:\n",
        "            # Otherwise, add the token to the list\n",
        "            merged_tokens.append(token)\n",
        "\n",
        "    return merged_tokens\n",
        "\n",
        "def ner(input):\n",
        "    output = get_completion(input, parameters=None, ENDPOINT_URL=API_URL)\n",
        "    merged_tokens = merge_tokens(output)\n",
        "    return {\"text\": input, \"entities\": merged_tokens}\n",
        "\n",
        "gr.close_all()\n",
        "demo = gr.Interface(fn=ner,\n",
        "                    inputs=[gr.Textbox(label=\"Text to find entities\", lines=2)],\n",
        "                    outputs=[gr.HighlightedText(label=\"Text with entities\")],\n",
        "                    title=\"NER with dslim/bert-base-NER\",\n",
        "                    description=\"Find entities using the `dslim/bert-base-NER` model under the hood!\",\n",
        "                    allow_flagging=\"never\",\n",
        "                    examples=[\"My name is Andrew, I'm building DeeplearningAI and I live in California\", \"My name is Poli, I live in Vienna and work at HuggingFace\"])\n",
        "\n",
        "demo.launch(share=True, server_port=int(os.environ['PORT4']))"
      ]
    },
    {
      "cell_type": "code",
      "execution_count": null,
      "id": "214916e4-3fac-47be-8bae-4851cd8cea80",
      "metadata": {
        "tags": [],
        "id": "214916e4-3fac-47be-8bae-4851cd8cea80",
        "outputId": "6077f8f5-5dca-4293-fa28-68fde332ea0a"
      },
      "outputs": [
        {
          "ename": "NameError",
          "evalue": "name 'gr' is not defined",
          "output_type": "error",
          "traceback": [
            "\u001b[1;31m---------------------------------------------------------------------------\u001b[0m",
            "\u001b[1;31mNameError\u001b[0m                                 Traceback (most recent call last)",
            "Cell \u001b[1;32mIn[10], line 1\u001b[0m\n\u001b[1;32m----> 1\u001b[0m gr\u001b[38;5;241m.\u001b[39mclose_all()\n",
            "\u001b[1;31mNameError\u001b[0m: name 'gr' is not defined"
          ]
        }
      ],
      "source": [
        "gr.close_all()"
      ]
    },
    {
      "cell_type": "code",
      "execution_count": null,
      "id": "1dda0153-401d-4de0-ace0-9226a1d4a9da",
      "metadata": {
        "id": "1dda0153-401d-4de0-ace0-9226a1d4a9da"
      },
      "outputs": [],
      "source": []
    }
  ],
  "metadata": {
    "kernelspec": {
      "display_name": "Python 3 (ipykernel)",
      "language": "python",
      "name": "python3"
    },
    "language_info": {
      "codemirror_mode": {
        "name": "ipython",
        "version": 3
      },
      "file_extension": ".py",
      "mimetype": "text/x-python",
      "name": "python",
      "nbconvert_exporter": "python",
      "pygments_lexer": "ipython3",
      "version": "3.11.3"
    },
    "colab": {
      "provenance": [],
      "include_colab_link": true
    }
  },
  "nbformat": 4,
  "nbformat_minor": 5
}