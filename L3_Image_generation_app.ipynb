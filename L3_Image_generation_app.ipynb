{
  "cells": [
    {
      "cell_type": "markdown",
      "metadata": {
        "id": "view-in-github",
        "colab_type": "text"
      },
      "source": [
        "<a href=\"https://colab.research.google.com/github/mahmouddraz/Gradio/blob/main/L3_Image_generation_app.ipynb\" target=\"_parent\"><img src=\"https://colab.research.google.com/assets/colab-badge.svg\" alt=\"Open In Colab\"/></a>"
      ]
    },
    {
      "cell_type": "markdown",
      "source": [
        "[![Open In Colab](https://colab.research.google.com/assets/colab-badge.svg)](https://colab.research.google.com/github/mahmouddraz/xai/blob/main/notebooks/cam/cam_model_training.ipynb)"
      ],
      "metadata": {
        "id": "XwnbAPmH_FIe"
      },
      "id": "XwnbAPmH_FIe"
    },
    {
      "cell_type": "markdown",
      "id": "1dc50fce-99ff-46b1-950a-8bed13280f26",
      "metadata": {
        "tags": [],
        "id": "1dc50fce-99ff-46b1-950a-8bed13280f26"
      },
      "source": [
        "# L3: Image generation app 🎨"
      ]
    },
    {
      "cell_type": "markdown",
      "id": "8391d502-87bf-4e77-b7ba-dab52b931d54",
      "metadata": {
        "id": "8391d502-87bf-4e77-b7ba-dab52b931d54"
      },
      "source": [
        "Load your HF API key and relevant Python libraries"
      ]
    },
    {
      "cell_type": "code",
      "execution_count": null,
      "id": "2798deb9-3ccc-49ef-83f1-1c5a06ab3669",
      "metadata": {
        "id": "2798deb9-3ccc-49ef-83f1-1c5a06ab3669"
      },
      "outputs": [],
      "source": [
        "import os\n",
        "import io\n",
        "import IPython.display\n",
        "from PIL import Image\n",
        "import base64\n",
        "from dotenv import load_dotenv, find_dotenv\n",
        "_ = load_dotenv(find_dotenv()) # read local .env file\n",
        "hf_api_key = os.environ['HF_API_KEY']"
      ]
    },
    {
      "cell_type": "code",
      "execution_count": null,
      "id": "cee69391-4395-45a4-af5c-5eb06e5efaea",
      "metadata": {
        "id": "cee69391-4395-45a4-af5c-5eb06e5efaea"
      },
      "outputs": [],
      "source": [
        "# Helper function\n",
        "import requests, json\n",
        "\n",
        "#Text-to-image endpoint\n",
        "def get_completion(inputs, parameters=None, ENDPOINT_URL=os.environ['HF_API_TTI_BASE']):\n",
        "    headers = {\n",
        "      \"Authorization\": f\"Bearer {hf_api_key}\",\n",
        "      \"Content-Type\": \"application/json\"\n",
        "    }\n",
        "    data = { \"inputs\": inputs }\n",
        "    if parameters is not None:\n",
        "        data.update({\"parameters\": parameters})\n",
        "    response = requests.request(\"POST\",\n",
        "                                ENDPOINT_URL,\n",
        "                                headers=headers,\n",
        "                                data=json.dumps(data))\n",
        "    return json.loads(response.content.decode(\"utf-8\"))"
      ]
    },
    {
      "cell_type": "markdown",
      "id": "002da072-4f30-4bcf-a498-843b1f159aac",
      "metadata": {
        "tags": [],
        "id": "002da072-4f30-4bcf-a498-843b1f159aac"
      },
      "source": [
        "## Building an image generation app"
      ]
    },
    {
      "cell_type": "markdown",
      "id": "e99213a6-221d-4e26-bd94-18751f8e0d52",
      "metadata": {
        "id": "e99213a6-221d-4e26-bd94-18751f8e0d52"
      },
      "source": [
        "Here we are going to run `runwayml/stable-diffusion-v1-5` using the `🧨 diffusers` library."
      ]
    },
    {
      "cell_type": "markdown",
      "id": "d8db139b-9727-4c64-bb4d-c9e38f1b3768",
      "metadata": {
        "id": "d8db139b-9727-4c64-bb4d-c9e38f1b3768"
      },
      "source": [
        "### How about running it locally?\n",
        "The code would look very similar if you were running it locally instead of from an API.\n",
        "```py\n",
        "from diffusers import DiffusionPipeline\n",
        "\n",
        "pipeline = DiffusionPipeline.from_pretrained(\"runwayml/stable-diffusion-v1-5\")\n",
        "\n",
        "def get_completion(prompt):\n",
        "    return pipeline(prompt).images[0]    \n",
        "```"
      ]
    },
    {
      "cell_type": "code",
      "execution_count": null,
      "id": "d22243bd-11c8-4e74-afac-0f05748f2de8",
      "metadata": {
        "id": "d22243bd-11c8-4e74-afac-0f05748f2de8"
      },
      "outputs": [],
      "source": [
        "prompt = \"a dog in a park\"\n",
        "\n",
        "result = get_completion(prompt)\n",
        "IPython.display.HTML(f'<img src=\"data:image/png;base64,{result}\" />')"
      ]
    },
    {
      "cell_type": "markdown",
      "id": "2217f000-9db8-4f09-9685-b9ac1dbe44e7",
      "metadata": {
        "tags": [],
        "id": "2217f000-9db8-4f09-9685-b9ac1dbe44e7"
      },
      "source": [
        "## Generating with `gr.Interface()`"
      ]
    },
    {
      "cell_type": "code",
      "execution_count": null,
      "id": "c410a3c6-74fe-4041-b917-ae2f08b562a6",
      "metadata": {
        "id": "c410a3c6-74fe-4041-b917-ae2f08b562a6"
      },
      "outputs": [],
      "source": [
        "import gradio as gr\n",
        "\n",
        "#A helper function to convert the PIL image to base64\n",
        "#so you can send it to the API\n",
        "def base64_to_pil(img_base64):\n",
        "    base64_decoded = base64.b64decode(img_base64)\n",
        "    byte_stream = io.BytesIO(base64_decoded)\n",
        "    pil_image = Image.open(byte_stream)\n",
        "    return pil_image\n",
        "\n",
        "def generate(prompt):\n",
        "    output = get_completion(prompt)\n",
        "    result_image = base64_to_pil(output)\n",
        "    return result_image\n",
        "\n",
        "gr.close_all()\n",
        "demo = gr.Interface(fn=generate,\n",
        "                    inputs=[gr.Textbox(label=\"Your prompt\")],\n",
        "                    outputs=[gr.Image(label=\"Result\")],\n",
        "                    title=\"Image Generation with Stable Diffusion\",\n",
        "                    description=\"Generate any image with Stable Diffusion\",\n",
        "                    allow_flagging=\"never\",\n",
        "                    examples=[\"the spirit of a tamagotchi wandering in the city of Vienna\",\"a mecha robot in a favela\"])\n",
        "\n",
        "demo.launch(share=True, server_port=int(os.environ['PORT1']))"
      ]
    },
    {
      "cell_type": "markdown",
      "id": "06315982-422b-45bd-8274-88c7eb46f698",
      "metadata": {
        "tags": [],
        "id": "06315982-422b-45bd-8274-88c7eb46f698"
      },
      "source": [
        "## Building a more advanced interface"
      ]
    },
    {
      "cell_type": "code",
      "execution_count": null,
      "id": "20643ebb-4a2a-4212-bca4-cf67adc8fb5f",
      "metadata": {
        "tags": [],
        "id": "20643ebb-4a2a-4212-bca4-cf67adc8fb5f",
        "outputId": "4174981f-847e-468d-d8fc-dbc7b535d67c"
      },
      "outputs": [
        {
          "ename": "ModuleNotFoundError",
          "evalue": "No module named 'gradio'",
          "output_type": "error",
          "traceback": [
            "\u001b[1;31m---------------------------------------------------------------------------\u001b[0m",
            "\u001b[1;31mModuleNotFoundError\u001b[0m                       Traceback (most recent call last)",
            "Cell \u001b[1;32mIn[5], line 1\u001b[0m\n\u001b[1;32m----> 1\u001b[0m \u001b[38;5;28;01mimport\u001b[39;00m \u001b[38;5;21;01mgradio\u001b[39;00m \u001b[38;5;28;01mas\u001b[39;00m \u001b[38;5;21;01mgr\u001b[39;00m \n\u001b[0;32m      3\u001b[0m \u001b[38;5;66;03m#A helper function to convert the PIL image to base64 \u001b[39;00m\n\u001b[0;32m      4\u001b[0m \u001b[38;5;66;03m# so you can send it to the API\u001b[39;00m\n\u001b[0;32m      5\u001b[0m \u001b[38;5;28;01mdef\u001b[39;00m \u001b[38;5;21mbase64_to_pil\u001b[39m(img_base64):\n",
            "\u001b[1;31mModuleNotFoundError\u001b[0m: No module named 'gradio'"
          ]
        }
      ],
      "source": [
        "import gradio as gr\n",
        "\n",
        "#A helper function to convert the PIL image to base64\n",
        "# so you can send it to the API\n",
        "def base64_to_pil(img_base64):\n",
        "    base64_decoded = base64.b64decode(img_base64)\n",
        "    byte_stream = io.BytesIO(base64_decoded)\n",
        "    pil_image = Image.open(byte_stream)\n",
        "    return pil_image\n",
        "\n",
        "def generate(prompt, negative_prompt, steps, guidance, width, height):\n",
        "    params = {\n",
        "        \"negative_prompt\": negative_prompt,\n",
        "        \"num_inference_steps\": steps,\n",
        "        \"guidance_scale\": guidance,\n",
        "        \"width\": width,\n",
        "        \"height\": height\n",
        "    }\n",
        "\n",
        "    output = get_completion(prompt, params)\n",
        "    pil_image = base64_to_pil(output)\n",
        "    return pil_image\n",
        "\n",
        "gr.close_all()\n",
        "demo = gr.Interface(fn=generate,\n",
        "                    inputs=[\n",
        "                        gr.Textbox(label=\"Your prompt\"),\n",
        "                        gr.Textbox(label=\"Negative prompt\"),\n",
        "                        gr.Slider(label=\"Inference Steps\", minimum=1, maximum=100, value=25,\n",
        "                                 info=\"In how many steps will the denoiser denoise the image?\"),\n",
        "                        gr.Slider(label=\"Guidance Scale\", minimum=1, maximum=20, value=7,\n",
        "                                  info=\"Controls how much the text prompt influences the result\"),\n",
        "                        gr.Slider(label=\"Width\", minimum=64, maximum=512, step=64, value=512),\n",
        "                        gr.Slider(label=\"Height\", minimum=64, maximum=512, step=64, value=512),\n",
        "                    ],\n",
        "                    outputs=[gr.Image(label=\"Result\")],\n",
        "                    title=\"Image Generation with Stable Diffusion\",\n",
        "                    description=\"Generate any image with Stable Diffusion\",\n",
        "                    allow_flagging=\"never\"\n",
        "                    )\n",
        "\n",
        "demo.launch(share=True, server_port=int(os.environ['PORT2']))"
      ]
    },
    {
      "cell_type": "code",
      "execution_count": null,
      "id": "6897500a-88b1-4c42-bdb7-8238e4f544d7",
      "metadata": {
        "id": "6897500a-88b1-4c42-bdb7-8238e4f544d7"
      },
      "outputs": [],
      "source": [
        "demo.close()"
      ]
    },
    {
      "cell_type": "markdown",
      "id": "39d651d4-7098-48dd-a031-a3bc50f7f07d",
      "metadata": {
        "tags": [],
        "id": "39d651d4-7098-48dd-a031-a3bc50f7f07d"
      },
      "source": [
        "## `gr.Blocks()` to the rescue!"
      ]
    },
    {
      "cell_type": "code",
      "execution_count": null,
      "id": "57611ee1-b0ba-4a4d-a577-8bba1f3136ac",
      "metadata": {
        "tags": [],
        "id": "57611ee1-b0ba-4a4d-a577-8bba1f3136ac",
        "outputId": "79b7e8fb-3471-40be-ab6b-9b2dc646f4d5"
      },
      "outputs": [
        {
          "ename": "NameError",
          "evalue": "name 'gr' is not defined",
          "output_type": "error",
          "traceback": [
            "\u001b[1;31m---------------------------------------------------------------------------\u001b[0m",
            "\u001b[1;31mNameError\u001b[0m                                 Traceback (most recent call last)",
            "Cell \u001b[1;32mIn[2], line 1\u001b[0m\n\u001b[1;32m----> 1\u001b[0m \u001b[38;5;28;01mwith\u001b[39;00m gr\u001b[38;5;241m.\u001b[39mBlocks() \u001b[38;5;28;01mas\u001b[39;00m demo:\n\u001b[0;32m      2\u001b[0m     gr\u001b[38;5;241m.\u001b[39mMarkdown(\u001b[38;5;124m\"\u001b[39m\u001b[38;5;124m# Image Generation with Stable Diffusion\u001b[39m\u001b[38;5;124m\"\u001b[39m)\n\u001b[0;32m      3\u001b[0m     prompt \u001b[38;5;241m=\u001b[39m gr\u001b[38;5;241m.\u001b[39mTextbox(label\u001b[38;5;241m=\u001b[39m\u001b[38;5;124m\"\u001b[39m\u001b[38;5;124mYour prompt\u001b[39m\u001b[38;5;124m\"\u001b[39m)\n",
            "\u001b[1;31mNameError\u001b[0m: name 'gr' is not defined"
          ]
        }
      ],
      "source": [
        "with gr.Blocks() as demo:\n",
        "    gr.Markdown(\"# Image Generation with Stable Diffusion\")\n",
        "    prompt = gr.Textbox(label=\"Your prompt\")\n",
        "    with gr.Row():\n",
        "        with gr.Column():\n",
        "            negative_prompt = gr.Textbox(label=\"Negative prompt\")\n",
        "            steps = gr.Slider(label=\"Inference Steps\", minimum=1, maximum=100, value=25,\n",
        "                      info=\"In many steps will the denoiser denoise the image?\")\n",
        "            guidance = gr.Slider(label=\"Guidance Scale\", minimum=1, maximum=20, value=7,\n",
        "                      info=\"Controls how much the text prompt influences the result\")\n",
        "            width = gr.Slider(label=\"Width\", minimum=64, maximum=512, step=64, value=512)\n",
        "            height = gr.Slider(label=\"Height\", minimum=64, maximum=512, step=64, value=512)\n",
        "            btn = gr.Button(\"Submit\")\n",
        "        with gr.Column():\n",
        "            output = gr.Image(label=\"Result\")\n",
        "\n",
        "    btn.click(fn=generate, inputs=[prompt,negative_prompt,steps,guidance,width,height], outputs=[output])\n",
        "gr.close_all()\n",
        "demo.launch(share=True, server_port=int(os.environ['PORT3']))"
      ]
    },
    {
      "cell_type": "code",
      "execution_count": null,
      "id": "e268c5bd-9d19-4ee3-b495-ec6bfdd955ab",
      "metadata": {
        "tags": [],
        "id": "e268c5bd-9d19-4ee3-b495-ec6bfdd955ab",
        "outputId": "239eda12-effa-4d0a-872c-32d655707d0c"
      },
      "outputs": [
        {
          "ename": "NameError",
          "evalue": "name 'gr' is not defined",
          "output_type": "error",
          "traceback": [
            "\u001b[1;31m---------------------------------------------------------------------------\u001b[0m",
            "\u001b[1;31mNameError\u001b[0m                                 Traceback (most recent call last)",
            "Cell \u001b[1;32mIn[3], line 1\u001b[0m\n\u001b[1;32m----> 1\u001b[0m \u001b[38;5;28;01mwith\u001b[39;00m gr\u001b[38;5;241m.\u001b[39mBlocks() \u001b[38;5;28;01mas\u001b[39;00m demo:\n\u001b[0;32m      2\u001b[0m     gr\u001b[38;5;241m.\u001b[39mMarkdown(\u001b[38;5;124m\"\u001b[39m\u001b[38;5;124m# Image Generation with Stable Diffusion\u001b[39m\u001b[38;5;124m\"\u001b[39m)\n\u001b[0;32m      3\u001b[0m     \u001b[38;5;28;01mwith\u001b[39;00m gr\u001b[38;5;241m.\u001b[39mRow():\n",
            "\u001b[1;31mNameError\u001b[0m: name 'gr' is not defined"
          ]
        }
      ],
      "source": [
        "with gr.Blocks() as demo:\n",
        "    gr.Markdown(\"# Image Generation with Stable Diffusion\")\n",
        "    with gr.Row():\n",
        "        with gr.Column(scale=4):\n",
        "            prompt = gr.Textbox(label=\"Your prompt\") #Give prompt some real estate\n",
        "        with gr.Column(scale=1, min_width=50):\n",
        "            btn = gr.Button(\"Submit\") #Submit button side by side!\n",
        "    with gr.Accordion(\"Advanced options\", open=False): #Let's hide the advanced options!\n",
        "            negative_prompt = gr.Textbox(label=\"Negative prompt\")\n",
        "            with gr.Row():\n",
        "                with gr.Column():\n",
        "                    steps = gr.Slider(label=\"Inference Steps\", minimum=1, maximum=100, value=25,\n",
        "                      info=\"In many steps will the denoiser denoise the image?\")\n",
        "                    guidance = gr.Slider(label=\"Guidance Scale\", minimum=1, maximum=20, value=7,\n",
        "                      info=\"Controls how much the text prompt influences the result\")\n",
        "                with gr.Column():\n",
        "                    width = gr.Slider(label=\"Width\", minimum=64, maximum=512, step=64, value=512)\n",
        "                    height = gr.Slider(label=\"Height\", minimum=64, maximum=512, step=64, value=512)\n",
        "    output = gr.Image(label=\"Result\") #Move the output up too\n",
        "\n",
        "    btn.click(fn=generate, inputs=[prompt,negative_prompt,steps,guidance,width,height], outputs=[output])\n",
        "\n",
        "gr.close_all()\n",
        "demo.launch(share=True, server_port=int(os.environ['PORT4']))"
      ]
    },
    {
      "cell_type": "code",
      "execution_count": null,
      "id": "389d9b14-7c67-42ad-9946-58b377d4bef9",
      "metadata": {
        "tags": [],
        "id": "389d9b14-7c67-42ad-9946-58b377d4bef9",
        "outputId": "e9317d63-7bfa-4288-904f-0393513e6b36"
      },
      "outputs": [
        {
          "ename": "NameError",
          "evalue": "name 'gr' is not defined",
          "output_type": "error",
          "traceback": [
            "\u001b[1;31m---------------------------------------------------------------------------\u001b[0m",
            "\u001b[1;31mNameError\u001b[0m                                 Traceback (most recent call last)",
            "Cell \u001b[1;32mIn[4], line 1\u001b[0m\n\u001b[1;32m----> 1\u001b[0m gr\u001b[38;5;241m.\u001b[39mclose_all()\n",
            "\u001b[1;31mNameError\u001b[0m: name 'gr' is not defined"
          ]
        }
      ],
      "source": [
        "gr.close_all()"
      ]
    },
    {
      "cell_type": "code",
      "execution_count": null,
      "id": "8af23388-bef9-4b16-8ca7-955cb3c06fe3",
      "metadata": {
        "id": "8af23388-bef9-4b16-8ca7-955cb3c06fe3"
      },
      "outputs": [],
      "source": []
    }
  ],
  "metadata": {
    "kernelspec": {
      "display_name": "Python 3 (ipykernel)",
      "language": "python",
      "name": "python3"
    },
    "language_info": {
      "codemirror_mode": {
        "name": "ipython",
        "version": 3
      },
      "file_extension": ".py",
      "mimetype": "text/x-python",
      "name": "python",
      "nbconvert_exporter": "python",
      "pygments_lexer": "ipython3",
      "version": "3.11.3"
    },
    "colab": {
      "provenance": [],
      "include_colab_link": true
    }
  },
  "nbformat": 4,
  "nbformat_minor": 5
}